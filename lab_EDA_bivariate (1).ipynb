{
 "cells": [
  {
   "cell_type": "code",
   "execution_count": null,
   "id": "3eb7d78a",
   "metadata": {},
   "outputs": [],
   "source": [
    "import pandas as pd\n",
    "import matplotlib.pyplot as plt\n",
    "import seaborn as sns\n",
    "import numpy as np\n",
    "from statistics import mode\n",
    "\n",
    "%matplotlib inline"
   ]
  },
  {
   "cell_type": "code",
   "execution_count": null,
   "id": "86879df5",
   "metadata": {
    "scrolled": true
   },
   "outputs": [],
   "source": [
    "df = pd.read_csv(r\"C:\\Users\\ramya\\Downloads\\archive (13)\\amz_uk_price_prediction_dataset.csv\")\n",
    "\n",
    "df"
   ]
  },
  {
   "cell_type": "markdown",
   "id": "4c257fb0",
   "metadata": {},
   "source": [
    "# Part 1: \n",
    "\n",
    "## Analyzing Best-Seller Trends Across Product Categories\n",
    "**Objective: Understand the relationship between product categories and their best-seller status.**\n",
    "\n",
    "**Crosstab Analysis:**\n",
    "\n",
    "- Create a crosstab between the product category and the isBestSeller status.\n",
    "- Are there categories where being a best-seller is more prevalent?\n",
    "- Hint: one option is to calculate the proportion of best-sellers for each category and then sort the categories based on this proportion in descending order.\n",
    "\n",
    "**Statistical Tests:**\n",
    "\n",
    "- Conduct a Chi-square test to determine if the best-seller distribution is independent of the product category.\n",
    "- Compute Cramér's V to understand the strength of association between best-seller status and category.\n",
    "\n",
    "**Visualizations:**\n",
    "\n",
    "- Visualize the relationship between product categories and the best-seller status using a stacked bar chart."
   ]
  },
  {
   "cell_type": "code",
   "execution_count": null,
   "id": "05a820f2",
   "metadata": {
    "scrolled": true
   },
   "outputs": [],
   "source": [
    "crosstab_result = pd.crosstab(df['category'], df['isBestSeller']).sort_values(True, ascending = False)\n",
    "crosstab_result"
   ]
  },
  {
   "cell_type": "code",
   "execution_count": null,
   "id": "d06f0eeb",
   "metadata": {
    "scrolled": true
   },
   "outputs": [],
   "source": [
    "category_proportions = df.groupby('category')['isBestSeller'].mean().sort_values(ascending = False).head(20)\n",
    "category_proportions"
   ]
  },
  {
   "cell_type": "code",
   "execution_count": null,
   "id": "02033bdf",
   "metadata": {},
   "outputs": [],
   "source": [
    "from scipy.stats import chi2_contingency\n",
    "\n",
    "# Chi-square test for 'MSZoning' and 'SaleCondition'\n",
    "chi2_statistic, chi2_p_value, _, _ = chi2_contingency(crosstab_result)\n",
    "\n",
    "chi2_statistic, chi2_p_value"
   ]
  },
  {
   "cell_type": "code",
   "execution_count": null,
   "id": "1793f3d6",
   "metadata": {},
   "outputs": [],
   "source": [
    "from scipy.stats.contingency import association\n",
    "\n",
    "association(crosstab_result, method=\"cramer\")"
   ]
  },
  {
   "cell_type": "code",
   "execution_count": null,
   "id": "bdfcf2f7",
   "metadata": {},
   "outputs": [],
   "source": [
    "crosstab_result.head(10).plot(kind=\"bar\", stacked=True)\n",
    "plt.xticks(rotation = 90)"
   ]
  },
  {
   "cell_type": "markdown",
   "id": "ef3ea64f",
   "metadata": {},
   "source": [
    "# Part 2: \n",
    "\n",
    "## Exploring Product Prices and Ratings Across Categories and Brands\n",
    "**Objective: Investigate how different product categories influence product prices.**\n",
    "\n",
    "**Preliminary Step: Remove outliers in product prices.**\n",
    "\n",
    "- For this purpose, we can use the IQR (Interquartile Range) method. Products priced below the first quartile minus 1.5 times the IQR or above the third quartile plus 1.5 times the IQR will be considered outliers and removed from the dataset. The next steps will be done with the dataframe without outliers.\n",
    "- Hint: you can check the last Check For Understanding at the end of the lesson EDA Bivariate Analysis for a hint on how to do this.\n",
    "\n",
    "**Bar Charts:**\n",
    "\n",
    "- Create a bar chart comparing the average price of products for the top 10 product categories (based on count).\n",
    "- Which product category commands the highest average price? Don't filter here by top categories.\n",
    "\n",
    "**Violin Plots:**\n",
    "\n",
    "- Use a violin plot to visualize the distribution of price across different product categories. Filter out the top 20 categories based on count for better visualization.\n",
    "- Which product category commands the highest average price? Don't filter here by top categories.\n",
    "\n",
    "**Box Plots:**\n",
    "\n",
    "- Visualize the distribution of product ratings based on their category using side-by-side box plots. Filter out the top 10 categories based on count for better visualization.\n",
    "- Which category tends to receive the highest median rating from customers? Don't filter here by top categories."
   ]
  },
  {
   "cell_type": "code",
   "execution_count": null,
   "id": "2ed25025",
   "metadata": {},
   "outputs": [],
   "source": [
    "Q1 = df['price'].quantile(0.25)\n",
    "Q3 = df['price'].quantile(0.75)\n",
    "IQR = Q3 - Q1\n",
    "\n",
    "lower_bound = Q1 - 1.5 * IQR\n",
    "upper_bound = Q3 + 1.5 * IQR\n",
    "    \n",
    "cleaned_data = df[(df['price'] > lower_bound) & (df['price'] < upper_bound)]\n"
   ]
  },
  {
   "cell_type": "code",
   "execution_count": null,
   "id": "449fba55",
   "metadata": {
    "scrolled": true
   },
   "outputs": [],
   "source": [
    "cleaned_data"
   ]
  },
  {
   "cell_type": "code",
   "execution_count": null,
   "id": "a22a1afb",
   "metadata": {},
   "outputs": [],
   "source": [
    "top_20_category = cleaned_data['category'].value_counts().sort_values(ascending = False).head(20).index\n",
    "top_20_category"
   ]
  },
  {
   "cell_type": "code",
   "execution_count": null,
   "id": "1b021478",
   "metadata": {},
   "outputs": [],
   "source": [
    "df_top_20 = cleaned_data[cleaned_data['category'].isin(top_20_category)]\n",
    "df_top_20"
   ]
  },
  {
   "cell_type": "code",
   "execution_count": null,
   "id": "db22f2c8",
   "metadata": {
    "scrolled": true
   },
   "outputs": [],
   "source": [
    "sns.violinplot(x='category', y='price', data=df_top_20)\n",
    "plt.xticks(rotation=90)"
   ]
  },
  {
   "cell_type": "code",
   "execution_count": null,
   "id": "c9ad1a36",
   "metadata": {
    "scrolled": true
   },
   "outputs": [],
   "source": [
    "cleaned_data.groupby('category')['price'].agg('mean').sort_values(ascending = False).head(20)"
   ]
  },
  {
   "cell_type": "markdown",
   "id": "ca1ae46e",
   "metadata": {},
   "source": [
    "- Visualize the distribution of product ratings based on their category using side-by-side box plots. Filter out the top 10 categories based on count for better visualization.\n",
    "- Which category tends to receive the highest median rating from customers? Don't filter here by top categories."
   ]
  },
  {
   "cell_type": "code",
   "execution_count": null,
   "id": "044b053a",
   "metadata": {
    "scrolled": true
   },
   "outputs": [],
   "source": [
    "sns.barplot(data = df_top_10, x = 'category', y = 'price')\n",
    "plt.xticks(rotation = 90)"
   ]
  },
  {
   "cell_type": "code",
   "execution_count": null,
   "id": "532ae74b",
   "metadata": {
    "scrolled": true
   },
   "outputs": [],
   "source": [
    "top_10_category = cleaned_data['category'].value_counts().sort_values(ascending = False).head(10).index\n",
    "df_top_10 = cleaned_data[cleaned_data['category'].isin(top_10_category)]\n",
    "df_top_10"
   ]
  },
  {
   "cell_type": "code",
   "execution_count": null,
   "id": "00fb3b69",
   "metadata": {
    "scrolled": true
   },
   "outputs": [],
   "source": [
    "sns.boxplot(data=df_top_10, x='category', y='stars', palette=\"coolwarm\")\n",
    "plt.xticks(rotation=90)"
   ]
  },
  {
   "cell_type": "markdown",
   "id": "c88b3a10",
   "metadata": {},
   "source": [
    "# Part 3: \n",
    "## Investigating the Interplay Between Product Prices and Ratings\n",
    "\n",
    "**Objective:** \n",
    "    Analyze how product ratings (stars) correlate with product prices.\n",
    "\n",
    "**Correlation Coefficients:**\n",
    "\n",
    "- Calculate the correlation coefficient between price and stars.\n",
    "- Is there a significant correlation between product price and its rating?\n",
    "\n",
    "**Visualizations:**\n",
    "\n",
    "- Use a scatter plot to visualize the relationship between product rating and price. What patterns can you observe?\n",
    "- Use a correlation heatmap to visualize correlations between all numerical variables.\n",
    "- Examine if product prices typically follow a normal distribution using a QQ plot.\n"
   ]
  },
  {
   "cell_type": "code",
   "execution_count": null,
   "id": "2546a5a0",
   "metadata": {},
   "outputs": [],
   "source": [
    "correlation = cleaned_data['stars'].corr(cleaned_data['price'])\n",
    "correlation"
   ]
  },
  {
   "cell_type": "code",
   "execution_count": null,
   "id": "269e7652",
   "metadata": {},
   "outputs": [],
   "source": [
    "correlation = cleaned_data['stars'].corr(cleaned_data['price'], method='spearman')\n",
    "correlation"
   ]
  },
  {
   "cell_type": "markdown",
   "id": "0fde85fc",
   "metadata": {},
   "source": [
    "- Pearson Correlation: (-0.08)\n",
    "- Spearman Correlation: (-0.07)"
   ]
  },
  {
   "cell_type": "code",
   "execution_count": null,
   "id": "026ca1bf",
   "metadata": {},
   "outputs": [],
   "source": [
    "sns.scatterplot(data=cleaned_data, x='stars', y='price')"
   ]
  },
  {
   "cell_type": "code",
   "execution_count": null,
   "id": "041a821c",
   "metadata": {},
   "outputs": [],
   "source": [
    "correlation_matrix = cleaned_data.corr()\n",
    "\n",
    "plt.figure(figsize=(18, 15))\n",
    "\n",
    "sns.heatmap(correlation_matrix, annot=True, cmap=\"coolwarm\")\n",
    "\n",
    "plt.title(\"Correlation Heatmap for Selected Numerical Variables\")\n",
    "plt.show()"
   ]
  },
  {
   "cell_type": "code",
   "execution_count": null,
   "id": "37c40bfc",
   "metadata": {
    "scrolled": true
   },
   "outputs": [],
   "source": [
    "import statsmodels.api as sm\n",
    "\n",
    "sm.qqplot(cleaned_data['price'], line='s');"
   ]
  },
  {
   "cell_type": "code",
   "execution_count": null,
   "id": "98b6fc0a",
   "metadata": {},
   "outputs": [],
   "source": []
  }
 ],
 "metadata": {
  "kernelspec": {
   "display_name": "Python 3 (ipykernel)",
   "language": "python",
   "name": "python3"
  },
  "language_info": {
   "codemirror_mode": {
    "name": "ipython",
    "version": 3
   },
   "file_extension": ".py",
   "mimetype": "text/x-python",
   "name": "python",
   "nbconvert_exporter": "python",
   "pygments_lexer": "ipython3",
   "version": "3.9.13"
  }
 },
 "nbformat": 4,
 "nbformat_minor": 5
}
